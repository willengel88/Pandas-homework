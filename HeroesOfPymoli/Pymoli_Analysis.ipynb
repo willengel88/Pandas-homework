{
 "cells": [
  {
   "cell_type": "code",
   "execution_count": 1,
   "metadata": {
    "collapsed": true
   },
   "outputs": [],
   "source": [
    "import pandas as pd"
   ]
  },
  {
   "cell_type": "code",
   "execution_count": 2,
   "metadata": {
    "collapsed": true
   },
   "outputs": [],
   "source": [
    "df1 = pd.read_json(\"purchase_data.json\")\n",
    "df2 = pd.read_json(\"purchase_data2.json\")\n",
    "df = pd.concat([df1, df2], ignore_index=True)"
   ]
  },
  {
   "cell_type": "code",
   "execution_count": 3,
   "metadata": {},
   "outputs": [
    {
     "data": {
      "text/html": [
       "<div>\n",
       "<style>\n",
       "    .dataframe thead tr:only-child th {\n",
       "        text-align: right;\n",
       "    }\n",
       "\n",
       "    .dataframe thead th {\n",
       "        text-align: left;\n",
       "    }\n",
       "\n",
       "    .dataframe tbody tr th {\n",
       "        vertical-align: top;\n",
       "    }\n",
       "</style>\n",
       "<table border=\"1\" class=\"dataframe\">\n",
       "  <thead>\n",
       "    <tr style=\"text-align: right;\">\n",
       "      <th></th>\n",
       "      <th>Age</th>\n",
       "      <th>Gender</th>\n",
       "      <th>Item ID</th>\n",
       "      <th>Item Name</th>\n",
       "      <th>Price</th>\n",
       "      <th>SN</th>\n",
       "    </tr>\n",
       "  </thead>\n",
       "  <tbody>\n",
       "    <tr>\n",
       "      <th>0</th>\n",
       "      <td>38</td>\n",
       "      <td>Male</td>\n",
       "      <td>165</td>\n",
       "      <td>Bone Crushing Silver Skewer</td>\n",
       "      <td>3.37</td>\n",
       "      <td>Aelalis34</td>\n",
       "    </tr>\n",
       "    <tr>\n",
       "      <th>1</th>\n",
       "      <td>21</td>\n",
       "      <td>Male</td>\n",
       "      <td>119</td>\n",
       "      <td>Stormbringer, Dark Blade of Ending Misery</td>\n",
       "      <td>2.32</td>\n",
       "      <td>Eolo46</td>\n",
       "    </tr>\n",
       "    <tr>\n",
       "      <th>2</th>\n",
       "      <td>34</td>\n",
       "      <td>Male</td>\n",
       "      <td>174</td>\n",
       "      <td>Primitive Blade</td>\n",
       "      <td>2.46</td>\n",
       "      <td>Assastnya25</td>\n",
       "    </tr>\n",
       "    <tr>\n",
       "      <th>3</th>\n",
       "      <td>21</td>\n",
       "      <td>Male</td>\n",
       "      <td>92</td>\n",
       "      <td>Final Critic</td>\n",
       "      <td>1.36</td>\n",
       "      <td>Pheusrical25</td>\n",
       "    </tr>\n",
       "    <tr>\n",
       "      <th>4</th>\n",
       "      <td>23</td>\n",
       "      <td>Male</td>\n",
       "      <td>63</td>\n",
       "      <td>Stormfury Mace</td>\n",
       "      <td>1.27</td>\n",
       "      <td>Aela59</td>\n",
       "    </tr>\n",
       "  </tbody>\n",
       "</table>\n",
       "</div>"
      ],
      "text/plain": [
       "   Age Gender  Item ID                                  Item Name  Price  \\\n",
       "0   38   Male      165                Bone Crushing Silver Skewer   3.37   \n",
       "1   21   Male      119  Stormbringer, Dark Blade of Ending Misery   2.32   \n",
       "2   34   Male      174                            Primitive Blade   2.46   \n",
       "3   21   Male       92                               Final Critic   1.36   \n",
       "4   23   Male       63                             Stormfury Mace   1.27   \n",
       "\n",
       "             SN  \n",
       "0     Aelalis34  \n",
       "1        Eolo46  \n",
       "2   Assastnya25  \n",
       "3  Pheusrical25  \n",
       "4        Aela59  "
      ]
     },
     "execution_count": 3,
     "metadata": {},
     "output_type": "execute_result"
    }
   ],
   "source": [
    "df.head()"
   ]
  },
  {
   "cell_type": "code",
   "execution_count": 4,
   "metadata": {},
   "outputs": [
    {
     "data": {
      "text/html": [
       "<div>\n",
       "<style>\n",
       "    .dataframe thead tr:only-child th {\n",
       "        text-align: right;\n",
       "    }\n",
       "\n",
       "    .dataframe thead th {\n",
       "        text-align: left;\n",
       "    }\n",
       "\n",
       "    .dataframe tbody tr th {\n",
       "        vertical-align: top;\n",
       "    }\n",
       "</style>\n",
       "<table border=\"1\" class=\"dataframe\">\n",
       "  <thead>\n",
       "    <tr style=\"text-align: right;\">\n",
       "      <th></th>\n",
       "      <th>Age</th>\n",
       "      <th>Gender</th>\n",
       "      <th>Price</th>\n",
       "    </tr>\n",
       "  </thead>\n",
       "  <tbody>\n",
       "    <tr>\n",
       "      <th>0</th>\n",
       "      <td>38</td>\n",
       "      <td>Male</td>\n",
       "      <td>3.37</td>\n",
       "    </tr>\n",
       "    <tr>\n",
       "      <th>1</th>\n",
       "      <td>21</td>\n",
       "      <td>Male</td>\n",
       "      <td>2.32</td>\n",
       "    </tr>\n",
       "    <tr>\n",
       "      <th>2</th>\n",
       "      <td>34</td>\n",
       "      <td>Male</td>\n",
       "      <td>2.46</td>\n",
       "    </tr>\n",
       "    <tr>\n",
       "      <th>3</th>\n",
       "      <td>21</td>\n",
       "      <td>Male</td>\n",
       "      <td>1.36</td>\n",
       "    </tr>\n",
       "    <tr>\n",
       "      <th>4</th>\n",
       "      <td>23</td>\n",
       "      <td>Male</td>\n",
       "      <td>1.27</td>\n",
       "    </tr>\n",
       "  </tbody>\n",
       "</table>\n",
       "</div>"
      ],
      "text/plain": [
       "   Age Gender  Price\n",
       "0   38   Male   3.37\n",
       "1   21   Male   2.32\n",
       "2   34   Male   2.46\n",
       "3   21   Male   1.36\n",
       "4   23   Male   1.27"
      ]
     },
     "execution_count": 4,
     "metadata": {},
     "output_type": "execute_result"
    }
   ],
   "source": [
    "df[[\"Age\",\"Gender\",\"Price\"]].head()"
   ]
  },
  {
   "cell_type": "code",
   "execution_count": 14,
   "metadata": {},
   "outputs": [
    {
     "data": {
      "text/plain": [
       "612"
      ]
     },
     "execution_count": 14,
     "metadata": {},
     "output_type": "execute_result"
    }
   ],
   "source": [
    "playerCount = len(df[\"SN\"].unique())\n",
    "playerCount"
   ]
  },
  {
   "cell_type": "code",
   "execution_count": 25,
   "metadata": {},
   "outputs": [
    {
     "data": {
      "text/plain": [
       "858"
      ]
     },
     "execution_count": 25,
     "metadata": {},
     "output_type": "execute_result"
    }
   ],
   "source": [
    "totalNumberPurchases = len(df)\n",
    "totalNumberPurchases"
   ]
  },
  {
   "cell_type": "code",
   "execution_count": 26,
   "metadata": {
    "scrolled": true
   },
   "outputs": [
    {
     "data": {
      "text/plain": [
       "array(['Aelalis34', 'Eolo46', 'Assastnya25', 'Pheusrical25', 'Aela59',\n",
       "       'Tanimnya91', 'Undjaskla97', 'Iathenudil29', 'Sondenasta63',\n",
       "       'Hilaerin92', 'Chamosia29', 'Sally64', 'Iskossa88',\n",
       "       'Seorithstilis90', 'Sundast29', 'Haellysu29', 'Sundista85',\n",
       "       'Aenarap34', 'Iskista88', 'Assossa43', 'Irith83', 'Iaralrgue74',\n",
       "       'Deural48', 'Chanosia65', 'Qarwen67', 'Idai61', 'Aerithllora36',\n",
       "       'Ilariarin45', 'Phaedai25', 'Eulaeria40', 'Iarilis73', 'Malunil62',\n",
       "       'Iskimnya76', 'Yararmol43', 'Aisur51', 'Undare39', 'Sondossa91',\n",
       "       'Chamjasknya65', 'Lassilsa63', 'Tyisur83', 'Aeral43',\n",
       "       'Lassadarsda57', 'Alaephos75', 'Frichjask31', 'Eusur90',\n",
       "       'Palatyon26', 'Saellyra72', 'Ililsa62', 'Eosur70', 'Saistyphos30',\n",
       "       'Reula64', 'Chanirrala39', 'Chadanto83', 'Minduli80', 'Heunadil74',\n",
       "       'Marilsasya33', 'Alallo58', 'Tyaeristi78', 'Ila44', 'Iskossaya95',\n",
       "       'Rinallorap73', 'Aeri84', 'Ryanara76', 'Syally44', 'Shaidanu32',\n",
       "       'Syasriria69', 'Lisiriya82', 'Iskosia51', 'Eosurdru76',\n",
       "       'Lassimla92', 'Tauldilsa43', 'Erudrion71', 'Chanjaskan37',\n",
       "       'Sondastan54', 'Strithenu87', 'Chanastsda67', 'Baelollodeu94',\n",
       "       'Undirrala66', 'Chanosseya79', 'Yaristi64', 'Airi27',\n",
       "       'Frichaststa61', 'Raysistast71', 'Ithergue48', 'Chanastst38',\n",
       "       'Sundosiasta28', 'Undotesta33', 'Tyiaduenuru55', 'Iskjaskst81',\n",
       "       'Iskjaskan81', 'Frichim27', 'Hailaphos89', 'Jiskjask80',\n",
       "       'Yasurra52', 'Assassasta79', 'Lamyon68', 'Alo67', 'Farenon57',\n",
       "       'Assistasda90', 'Frichaya88', 'Marassanya92', 'Iskista96',\n",
       "       'Mindirra92', 'Chadossa56', 'Eoda93', 'Lassast89', 'Philodil43',\n",
       "       'Tyirithnu40', 'Haerith37', 'Jeyciman68', 'Chamirraya83', 'Yasur85',\n",
       "       'Koikirra25', 'Quarunarn52', 'Yasur35', 'Isurriarap71',\n",
       "       'Lassjask63', 'Iliel92', 'Arithllorin55', 'Silideu44',\n",
       "       'Heosurnuru52', 'Raesty92', 'Eyircil84', 'Isursti83', 'Eurinu48',\n",
       "       'Saedaiphos46', 'Jiskossa51', 'Sundossast30', 'Ialallo29',\n",
       "       'Chanosia60', 'Ilosia37', 'Tyeulisu40', 'Yaliru88', 'Jiskassa76',\n",
       "       'Idairin80', 'Dyally87', 'Quarusrion32', 'Adairialis76',\n",
       "       'Lirtilsan89', 'Reolacal36', 'Lisirrast82', 'Ilrian97', 'Tyadaru49',\n",
       "       'Sweecossa42', 'Streural92', 'Queusurra38', 'Lassilsa41',\n",
       "       'Aisurphos78', 'Marim28', 'Taeduenu92', 'Eodailis27',\n",
       "       'Lassjaskan73', 'Yadanun74', 'Iskossasda43', 'Aesty51', 'Tyida79',\n",
       "       'Frichossast75', 'Eratiel90', 'Chamirra53', 'Alarap40',\n",
       "       'Ralaeriadeu65', 'Reulae52', 'Stryanastip77', 'Iskirra45',\n",
       "       'Chadadarya31', 'Heuli25', 'Raillydeu47', 'Chamadar61', 'Assassa38',\n",
       "       'Chanosiaya39', 'Raeri71', 'Hiasri33', 'Lisossa25', 'Sundassa93',\n",
       "       'Rina82', 'Siarinum43', 'Eurallo89', 'Hirirap39', 'Aidaira26',\n",
       "       'Zontibe81', 'Farusrian86', 'Undadarla37', 'Lirtossa78',\n",
       "       'Chanirra56', 'Lisasi93', 'Phadai31', 'Tyithesura58', 'Marilsa48',\n",
       "       'Siarithria38', 'Marirrasta50', 'Airidil41', 'Sausosia74',\n",
       "       'Sialaera37', 'Frichistasta59', 'Phadue96', 'Chanirra79',\n",
       "       'Yarmol79', 'Astydil38', 'Jiskirran77', 'Marjasksda39',\n",
       "       'Eoralphos86', 'Lisovynya38', 'Frichim77', 'Aellyrialis39',\n",
       "       'Chamilsan75', 'Saida58', 'Eusri70', 'Aeduera68', 'Qilatie51',\n",
       "       'Chamistast30', 'Qiluard68', 'Tyaelo67', 'Rithe77', 'Tyeosristi57',\n",
       "       'Eoral49', 'Aelollo59', 'Lisossa63', 'Wailin72', 'Yarithllodeu72',\n",
       "       'Lisistaya47', 'Chamadar27', 'Ethruard50', 'Yathecal72', 'Ilimya66',\n",
       "       'Ialistidru50', 'Tyaerith73', 'Lisistasya93', 'Chamadar79',\n",
       "       'Iallyphos37', 'Ilogha82', 'Ilaesudil92', 'Meosridil82',\n",
       "       'Undirrasta89', 'Lirtistanya48', 'Iadueria43', 'Lisjaskan36',\n",
       "       'Saedue76', 'Undjasksya56', 'Irithrap69', 'Quanenrian83',\n",
       "       'Phenastya51', 'Marassaya49', 'Yasrisu92', 'Qilanrion65',\n",
       "       'Chanassa48', 'Iskassa50', 'Frichjaskan98', 'Sirira97',\n",
       "       'Eoduenurin62', 'Yarirarn35', 'Aillycal84', 'Chanadar44',\n",
       "       'Lisimsda29', 'Tyidue95', 'Yaralnura48', 'Irillo49', 'Isri59',\n",
       "       'Aiduecal76', 'Frichosiala98', 'Deelilsasya30', 'Mindilsa60',\n",
       "       'Iladarla40', 'Chrathybust28', 'Yarithsurgue62', 'Mindossa76',\n",
       "       'Assilsan72', 'Assassa43', 'Yarolwen77', 'Faralcil63', 'Sondilsa40',\n",
       "       'Lisossan98', 'Chadossa89', 'Eosrirgue62', 'Filrion44',\n",
       "       'Lassassasda30', 'Aidain51', 'Aduephos78', 'Hainaria90',\n",
       "       'Raerithsti62', 'Reuthelis39', 'Sundaststa26', 'Aelin32',\n",
       "       'Sundadarla27', 'Aeliru63', 'Lisista27', 'Narirra38', 'Eustyria89',\n",
       "       'Phistym51', 'Salilis27', 'Layjask75', 'Lirtyrdesta65',\n",
       "       'Syalollorap93', 'Assylla81', 'Eurisuru25', 'Mindjasksya61',\n",
       "       'Eusri44', 'Rarith48', 'Yalaeria91', 'Iskadarya95', 'Lisossanya98',\n",
       "       'Iarithdil76', 'Aeliriarin93', 'Raedalis34', 'Sondossa55',\n",
       "       'Lisico81', 'Ialo60', 'Syathe73', 'Lisassa26', 'Rasrirgue43',\n",
       "       'Aerillorin70', 'Quelatarn54', 'Airithrin43', 'Lisjasksda68',\n",
       "       'Aerithnuphos61', 'Lirtosia72', 'Aeliriam77', 'Lisirra55',\n",
       "       'Aeral97', 'Lisosiast26', 'Lirtistasta79', 'Lisadar44', 'Isurria36',\n",
       "       'Sundastnya66', 'Raesursurap33', 'Sondassasya91', 'Ermol76',\n",
       "       'Yadaisuir65', 'Zhisrisu83', 'Sondassa68', 'Yarithphos28',\n",
       "       'Ingatcil75', 'Eothe56', 'Assithasta65', 'Palurrian69',\n",
       "       'Iskistasda86', 'Tyaili86', 'Liawista80', 'Seosri62', 'Silinu63',\n",
       "       'Aela49', 'Assosiasta83', 'Saelollop56', 'Saena74',\n",
       "       'Tyaelistidru84', 'Chamirrasya33', 'Smecherdi88', 'Leulaesti78',\n",
       "       'Tyaenasti87', 'Sondassa48', 'Saistydru69', 'Saisrilis27',\n",
       "       'Indonmol95', 'Fironon91', 'Lirtossanya27', 'Sondadar26',\n",
       "       'Phalinun47', 'Hiarideu73', 'Qilunan34', 'Pharithdil38',\n",
       "       'Tyeuladeu30', 'Ina92', 'Aithelis62', 'Indcil77', 'Hallysucal81',\n",
       "       'Tyeuduephos81', 'Heosrisuir72', 'Lirtassa47', 'Ithesuphos68',\n",
       "       'Eula35', 'Aina42', 'Ethrusuard41', 'Chanirrasta87', 'Ilirrasda54',\n",
       "       'Liri91', 'Undadar97', 'Lisosianya62', 'Mindimnya67',\n",
       "       'Undistasta86', 'Alaesu91', 'Jiskosiala43', 'Heuralsti66',\n",
       "       'Umuard36', 'Asur53', 'Thryallym62', 'Frichassala85', 'Ilosu82',\n",
       "       'Pheodai94', 'Undirrasta74', 'Hiasur92', 'Tillyrin30', 'Riralsti91',\n",
       "       'Iasur80', 'Eryon48', 'Whaestysu86', 'Aiduesu83', 'Iaralsuir44',\n",
       "       'Chanjask65', 'Frichistast39', 'Phairinum94', 'Ethralan59',\n",
       "       'Raelly43', 'Lisassasta50', 'Chanastnya43', 'Sondimla25',\n",
       "       'Chamilsala65', 'Idaria87', 'Lamil79', 'Qaronon57', 'Chadjask77',\n",
       "       'Ethralista69', 'Phaeduesurgue38', 'Rathellorin54', 'Filon68',\n",
       "       'Ingonon91', 'Assesi91', 'Aellyria80', 'Aethedru70', 'Tyalaesu89',\n",
       "       'Tyisriphos58', 'Seudaillorap38', 'Malista67', 'Ristydru66',\n",
       "       'Yasriphos60', 'Phainasu47', 'Eural50', 'Mindassast27',\n",
       "       'Iskossan49', 'Qarrian82', 'Eulidru49', 'Inguard95', 'Hiral75',\n",
       "       'Undast38', 'Airal46', 'Saerallora71', 'Frichossast86', 'Undirra73',\n",
       "       'Phaestycal84', 'Eosursurap97', 'Seolollo93', 'Ililsan66',\n",
       "       'Aesur96', 'Iskosian40', 'Aillyriadru65', 'Lisassa49', 'Ialidru40',\n",
       "       'Sondim43', 'Aethe80', 'Eudasu82', 'Lisirraya76', 'Haedasu65',\n",
       "       'Iral74', 'Lisjaskya84', 'Saelaephos52', 'Chamim85', 'Lirtista72',\n",
       "       'Seudanu38', 'Siathecal92', 'Eullydru35', 'Isrirgue68', 'Raithe71',\n",
       "       'Yathecal82', 'Saralp86', 'Tyeuduen32', 'Aina43', 'Undiwinya88',\n",
       "       'Silaera56', 'Billysu76', 'Aidaira48', 'Euna48', 'Lamil70',\n",
       "       'Chamadarnya73', 'Ilast79', 'Sondilsa35', 'Ralonurin90',\n",
       "       'Marundi65', 'Phaedan76', 'Ilassa51', 'Lirtossa84', 'Chamastya76',\n",
       "       'Heolo60', 'Thourdirra92', 'Frichadar89', 'Jiskilsa35',\n",
       "       'Philistirap41', 'Tyidainu31', 'Tridaira71', 'Mindadaran26',\n",
       "       'Lisassa39', 'Alaesu77', 'Mindossasya74', 'Syadaillo88',\n",
       "       'Lassilsala30', 'Eusri26', 'Lirtossan50', 'Sondim73', 'Assosia38',\n",
       "       'Tyeosri53', 'Raesurdil91', 'Anallorgue57', 'Rithe53', 'Quinarap53',\n",
       "       'Haerithp41', 'Seuthelis34', 'Styaduen40', 'Ennoncil86',\n",
       "       'Ilaststa70', 'Tyarithn67', 'Aerithnucal56', 'Sundjask71', 'Yalo71',\n",
       "       'Mindetosya30', 'Chanjaskan89', 'Lirtast83', 'Lassassast73',\n",
       "       'Strairisti57', 'Filrion59', 'Aellysup38', 'Hala31', 'Chanosiast43',\n",
       "       'Sundim98', 'Crausirra42', 'Frichast72', 'Sida61', 'Iri67',\n",
       "       'Ririp86', 'Jiskimsda56', 'Assistast50', 'Euliria52',\n",
       "       'Aerithriaphos45', 'Phyali88', 'Aeral85', 'Tyaelorgue39',\n",
       "       'Tyananurgue44', 'Isketo41', 'Sundast87', 'Yadacal26', 'Ilophos58',\n",
       "       'Marilsanya48', 'Phially37', 'Iduedru67', 'Saidairiaphos61',\n",
       "       'Chamimla73', 'Eurith26', 'Iskichinya81', 'Hiadanurin36',\n",
       "       'Tyaelly53', 'Shidai42', 'Bartassaya73', 'Mindosiasya28',\n",
       "       'Indirrian56', 'Sondim68', 'Cosadar58', 'Leyirra83', 'Inguron55',\n",
       "       'Ralasti48', 'Lamon28', 'Isri49', 'Eollym91', 'Yalostiphos68',\n",
       "       'Ailaesuir66', 'Siasri67', 'Ryastycal90', 'Raeduerin33',\n",
       "       'Assassasda84', 'Nitherian58', 'Chamucosda93', 'Frichilsasya78',\n",
       "       'Aenasu69', 'Lassista97', 'Sidap51', 'Chamadarsda63', 'Quelaton80',\n",
       "       'Alim85', 'Iloni35', 'Irim47', 'Undirra90', 'Eolideu96',\n",
       "       'Aesurstilis64', 'Jiskim75', 'Lirtassa77', 'Hairith93', 'Yarith71',\n",
       "       'Rarallo90', 'Inadeu25', 'Ilara98', 'Sundaky74', 'Chamjaskya75',\n",
       "       'Chanjasksda31', 'Heulaedru70', 'Lirtastan49', 'Eusty71',\n",
       "       'Frichilsa31', 'Palyon91', 'Seostylis96', 'Iskadar31',\n",
       "       'Pheodaisun84', 'Aeri79', 'Undosian34', 'Aesririam61', 'Firon67',\n",
       "       'Jiskjask76', 'Chanirra64', 'Isristira52', 'Chaniman66',\n",
       "       'Yarithrgue83', 'Undilsan50', 'Chamalo71', 'Lisirra44', 'Chamast86',\n",
       "       'Ardcil81', 'Heudai45', 'Syalallodil59'], dtype=object)"
      ]
     },
     "execution_count": 26,
     "metadata": {},
     "output_type": "execute_result"
    }
   ],
   "source": [
    "df[\"SN\"].unique()"
   ]
  },
  {
   "cell_type": "code",
   "execution_count": 28,
   "metadata": {},
   "outputs": [
    {
     "data": {
      "text/plain": [
       "180"
      ]
     },
     "execution_count": 28,
     "metadata": {},
     "output_type": "execute_result"
    }
   ],
   "source": [
    "uniqueItems = len(df[\"Item Name\"].unique())\n",
    "uniqueItems"
   ]
  },
  {
   "cell_type": "code",
   "execution_count": 29,
   "metadata": {
    "scrolled": true
   },
   "outputs": [
    {
     "data": {
      "text/plain": [
       "2.9305710955710915"
      ]
     },
     "execution_count": 29,
     "metadata": {},
     "output_type": "execute_result"
    }
   ],
   "source": [
    "avgPurchasePrice = df[\"Price\"].mean()\n",
    "avgPurchasePrice"
   ]
  },
  {
   "cell_type": "code",
   "execution_count": 31,
   "metadata": {},
   "outputs": [
    {
     "data": {
      "text/plain": [
       "2514.4299999999967"
      ]
     },
     "execution_count": 31,
     "metadata": {},
     "output_type": "execute_result"
    }
   ],
   "source": [
    "totalRevenue = df[\"Price\"].sum()\n",
    "totalRevenue"
   ]
  },
  {
   "cell_type": "code",
   "execution_count": 39,
   "metadata": {
    "collapsed": true
   },
   "outputs": [],
   "source": [
    "purchasingAnalysis = {\"Number of Unique Items\":[uniqueItems],\n",
    "                     \"Average Purchase Price\":[avgPurchasePrice],\n",
    "                     \"Total Number of Purchases\":[totalNumberPurchases],\n",
    "                     \"Total Revenue\":[totalRevenue]}"
   ]
  },
  {
   "cell_type": "code",
   "execution_count": 41,
   "metadata": {},
   "outputs": [
    {
     "data": {
      "text/html": [
       "<div>\n",
       "<style>\n",
       "    .dataframe thead tr:only-child th {\n",
       "        text-align: right;\n",
       "    }\n",
       "\n",
       "    .dataframe thead th {\n",
       "        text-align: left;\n",
       "    }\n",
       "\n",
       "    .dataframe tbody tr th {\n",
       "        vertical-align: top;\n",
       "    }\n",
       "</style>\n",
       "<table border=\"1\" class=\"dataframe\">\n",
       "  <thead>\n",
       "    <tr style=\"text-align: right;\">\n",
       "      <th></th>\n",
       "      <th>Average Purchase Price</th>\n",
       "      <th>Number of Unique Items</th>\n",
       "      <th>Total Number of Purchases</th>\n",
       "      <th>Total Revenue</th>\n",
       "    </tr>\n",
       "  </thead>\n",
       "  <tbody>\n",
       "    <tr>\n",
       "      <th>0</th>\n",
       "      <td>2.930571</td>\n",
       "      <td>180</td>\n",
       "      <td>858</td>\n",
       "      <td>2514.43</td>\n",
       "    </tr>\n",
       "  </tbody>\n",
       "</table>\n",
       "</div>"
      ],
      "text/plain": [
       "   Average Purchase Price  Number of Unique Items  Total Number of Purchases  \\\n",
       "0                2.930571                     180                        858   \n",
       "\n",
       "   Total Revenue  \n",
       "0        2514.43  "
      ]
     },
     "execution_count": 41,
     "metadata": {},
     "output_type": "execute_result"
    }
   ],
   "source": [
    "dfpa = pd.DataFrame(purchasingAnalysis)\n",
    "dfpa"
   ]
  },
  {
   "cell_type": "code",
   "execution_count": 82,
   "metadata": {
    "scrolled": true
   },
   "outputs": [],
   "source": [
    "dfUserGender = df[['SN','Gender']].drop_duplicates('SN',keep='first')"
   ]
  },
  {
   "cell_type": "code",
   "execution_count": 83,
   "metadata": {
    "scrolled": true
   },
   "outputs": [],
   "source": [
    "malePlayerCount = len(dfUserGender[dfUserGender[\"Gender\"]==\"Male\"])"
   ]
  },
  {
   "cell_type": "code",
   "execution_count": 84,
   "metadata": {},
   "outputs": [],
   "source": [
    "femalePlayerCount = len(dfUserGender[dfUserGender[\"Gender\"]==\"Female\"])"
   ]
  },
  {
   "cell_type": "code",
   "execution_count": 85,
   "metadata": {},
   "outputs": [
    {
     "data": {
      "text/plain": [
       "9"
      ]
     },
     "execution_count": 85,
     "metadata": {},
     "output_type": "execute_result"
    }
   ],
   "source": [
    "otherPlayerCount = 612-(495+108)\n",
    "otherPlayerCount"
   ]
  },
  {
   "cell_type": "code",
   "execution_count": 86,
   "metadata": {
    "collapsed": true
   },
   "outputs": [],
   "source": [
    "percentageMalePlayers = malePlayerCount/playerCount*100\n",
    "percentageFemalePlayers = femalePlayerCount/playerCount*100\n",
    "percentageOtherPlayers = otherPlayerCount/playerCount*100"
   ]
  },
  {
   "cell_type": "code",
   "execution_count": 87,
   "metadata": {
    "collapsed": true
   },
   "outputs": [],
   "source": [
    "genderDemographics = {\"Percentage and Count of Male Players\":[percentageMalePlayers],\n",
    "                     \"Percentage and Count of Female Players\":[percentageFemalePlayers],\n",
    "                     \"Percentage and Count of Other / Non-Disclosed\":[percentageOtherPlayers]}"
   ]
  },
  {
   "cell_type": "code",
   "execution_count": 88,
   "metadata": {},
   "outputs": [
    {
     "data": {
      "text/html": [
       "<div>\n",
       "<style>\n",
       "    .dataframe thead tr:only-child th {\n",
       "        text-align: right;\n",
       "    }\n",
       "\n",
       "    .dataframe thead th {\n",
       "        text-align: left;\n",
       "    }\n",
       "\n",
       "    .dataframe tbody tr th {\n",
       "        vertical-align: top;\n",
       "    }\n",
       "</style>\n",
       "<table border=\"1\" class=\"dataframe\">\n",
       "  <thead>\n",
       "    <tr style=\"text-align: right;\">\n",
       "      <th></th>\n",
       "      <th>Percentage and Count of Female Players</th>\n",
       "      <th>Percentage and Count of Male Players</th>\n",
       "      <th>Percentage and Count of Other / Non-Disclosed</th>\n",
       "    </tr>\n",
       "  </thead>\n",
       "  <tbody>\n",
       "    <tr>\n",
       "      <th>0</th>\n",
       "      <td>17.647059</td>\n",
       "      <td>80.882353</td>\n",
       "      <td>1.470588</td>\n",
       "    </tr>\n",
       "  </tbody>\n",
       "</table>\n",
       "</div>"
      ],
      "text/plain": [
       "   Percentage and Count of Female Players  \\\n",
       "0                               17.647059   \n",
       "\n",
       "   Percentage and Count of Male Players  \\\n",
       "0                             80.882353   \n",
       "\n",
       "   Percentage and Count of Other / Non-Disclosed  \n",
       "0                                       1.470588  "
      ]
     },
     "execution_count": 88,
     "metadata": {},
     "output_type": "execute_result"
    }
   ],
   "source": [
    "dfgd = pd.DataFrame(genderDemographics)\n",
    "dfgd"
   ]
  },
  {
   "cell_type": "code",
   "execution_count": 105,
   "metadata": {},
   "outputs": [],
   "source": [
    "dfpc = pd.DataFrame(df.groupby(\"Gender\")[\"Item ID\"].count()).rename(columns={\"Item ID\":\"Purchase Count\"})"
   ]
  },
  {
   "cell_type": "code",
   "execution_count": 104,
   "metadata": {},
   "outputs": [],
   "source": [
    "dfapp = pd.DataFrame(df.groupby(\"Gender\")[\"Price\"].mean()).rename(columns={\"Price\":\"Average Purchase Price\"})"
   ]
  },
  {
   "cell_type": "code",
   "execution_count": 103,
   "metadata": {},
   "outputs": [],
   "source": [
    "dftpv = pd.DataFrame(df.groupby(\"Gender\")[\"Price\"].sum()).rename(columns={\"Price\":\"Total Purchase Value\"})"
   ]
  },
  {
   "cell_type": "code",
   "execution_count": 106,
   "metadata": {},
   "outputs": [
    {
     "data": {
      "text/html": [
       "<div>\n",
       "<style>\n",
       "    .dataframe thead tr:only-child th {\n",
       "        text-align: right;\n",
       "    }\n",
       "\n",
       "    .dataframe thead th {\n",
       "        text-align: left;\n",
       "    }\n",
       "\n",
       "    .dataframe tbody tr th {\n",
       "        vertical-align: top;\n",
       "    }\n",
       "</style>\n",
       "<table border=\"1\" class=\"dataframe\">\n",
       "  <thead>\n",
       "    <tr style=\"text-align: right;\">\n",
       "      <th></th>\n",
       "      <th>Total Purchase Value</th>\n",
       "    </tr>\n",
       "    <tr>\n",
       "      <th>Gender</th>\n",
       "      <th></th>\n",
       "    </tr>\n",
       "  </thead>\n",
       "  <tbody>\n",
       "    <tr>\n",
       "      <th>Female</th>\n",
       "      <td>424.29</td>\n",
       "    </tr>\n",
       "    <tr>\n",
       "      <th>Male</th>\n",
       "      <td>2052.28</td>\n",
       "    </tr>\n",
       "    <tr>\n",
       "      <th>Other / Non-Disclosed</th>\n",
       "      <td>37.86</td>\n",
       "    </tr>\n",
       "  </tbody>\n",
       "</table>\n",
       "</div>"
      ],
      "text/plain": [
       "                       Total Purchase Value\n",
       "Gender                                     \n",
       "Female                               424.29\n",
       "Male                                2052.28\n",
       "Other / Non-Disclosed                 37.86"
      ]
     },
     "execution_count": 106,
     "metadata": {},
     "output_type": "execute_result"
    }
   ],
   "source": [
    "dftpv"
   ]
  },
  {
   "cell_type": "code",
   "execution_count": 109,
   "metadata": {},
   "outputs": [],
   "source": [
    "dfnv = dftpv/(dftpv.sum())"
   ]
  },
  {
   "cell_type": "code",
   "execution_count": 110,
   "metadata": {},
   "outputs": [
    {
     "data": {
      "text/plain": [
       "Total Purchase Value    1.0\n",
       "dtype: float64"
      ]
     },
     "execution_count": 110,
     "metadata": {},
     "output_type": "execute_result"
    }
   ],
   "source": [
    "dfnv.sum()"
   ]
  },
  {
   "cell_type": "code",
   "execution_count": null,
   "metadata": {
    "collapsed": true
   },
   "outputs": [],
   "source": []
  },
  {
   "cell_type": "code",
   "execution_count": null,
   "metadata": {
    "collapsed": true
   },
   "outputs": [],
   "source": []
  },
  {
   "cell_type": "code",
   "execution_count": null,
   "metadata": {
    "collapsed": true
   },
   "outputs": [],
   "source": []
  },
  {
   "cell_type": "code",
   "execution_count": null,
   "metadata": {
    "collapsed": true
   },
   "outputs": [],
   "source": []
  },
  {
   "cell_type": "code",
   "execution_count": null,
   "metadata": {
    "collapsed": true
   },
   "outputs": [],
   "source": []
  },
  {
   "cell_type": "code",
   "execution_count": null,
   "metadata": {
    "collapsed": true
   },
   "outputs": [],
   "source": []
  },
  {
   "cell_type": "code",
   "execution_count": null,
   "metadata": {
    "collapsed": true
   },
   "outputs": [],
   "source": []
  },
  {
   "cell_type": "code",
   "execution_count": null,
   "metadata": {
    "collapsed": true
   },
   "outputs": [],
   "source": []
  },
  {
   "cell_type": "code",
   "execution_count": null,
   "metadata": {
    "collapsed": true
   },
   "outputs": [],
   "source": []
  },
  {
   "cell_type": "code",
   "execution_count": null,
   "metadata": {
    "collapsed": true
   },
   "outputs": [],
   "source": []
  },
  {
   "cell_type": "code",
   "execution_count": null,
   "metadata": {
    "collapsed": true
   },
   "outputs": [],
   "source": []
  },
  {
   "cell_type": "code",
   "execution_count": null,
   "metadata": {
    "collapsed": true
   },
   "outputs": [],
   "source": []
  },
  {
   "cell_type": "code",
   "execution_count": 34,
   "metadata": {},
   "outputs": [
    {
     "data": {
      "text/html": [
       "<div>\n",
       "<style>\n",
       "    .dataframe thead tr:only-child th {\n",
       "        text-align: right;\n",
       "    }\n",
       "\n",
       "    .dataframe thead th {\n",
       "        text-align: left;\n",
       "    }\n",
       "\n",
       "    .dataframe tbody tr th {\n",
       "        vertical-align: top;\n",
       "    }\n",
       "</style>\n",
       "<table border=\"1\" class=\"dataframe\">\n",
       "  <thead>\n",
       "    <tr style=\"text-align: right;\">\n",
       "      <th></th>\n",
       "      <th>date</th>\n",
       "      <th>time</th>\n",
       "    </tr>\n",
       "  </thead>\n",
       "  <tbody>\n",
       "    <tr>\n",
       "      <th>0</th>\n",
       "      <td>June 13</td>\n",
       "      <td>10:30</td>\n",
       "    </tr>\n",
       "    <tr>\n",
       "      <th>1</th>\n",
       "      <td>July 20</td>\n",
       "      <td>2:30</td>\n",
       "    </tr>\n",
       "  </tbody>\n",
       "</table>\n",
       "</div>"
      ],
      "text/plain": [
       "      date   time\n",
       "0  June 13  10:30\n",
       "1  July 20   2:30"
      ]
     },
     "execution_count": 34,
     "metadata": {},
     "output_type": "execute_result"
    }
   ],
   "source": [
    "dfDummy = pd.DataFrame({\"time\":[\"10:30\",\"2:30\"], \"date\":[\"June 13\",\"July 20\"]})\n",
    "dfDummy"
   ]
  },
  {
   "cell_type": "code",
   "execution_count": 35,
   "metadata": {
    "collapsed": true
   },
   "outputs": [],
   "source": [
    "dfDummy2 = {\"time\":[\"10:30\",\"2:30\"], \"date\":[\"June 13\",\"July 20\"]}"
   ]
  },
  {
   "cell_type": "code",
   "execution_count": 38,
   "metadata": {},
   "outputs": [
    {
     "data": {
      "text/plain": [
       "['10:30', '2:30']"
      ]
     },
     "execution_count": 38,
     "metadata": {},
     "output_type": "execute_result"
    }
   ],
   "source": [
    "dfDummy2[\"time\"]"
   ]
  },
  {
   "cell_type": "code",
   "execution_count": null,
   "metadata": {
    "collapsed": true
   },
   "outputs": [],
   "source": []
  }
 ],
 "metadata": {
  "kernelspec": {
   "display_name": "Python 3",
   "language": "python",
   "name": "python3"
  },
  "language_info": {
   "codemirror_mode": {
    "name": "ipython",
    "version": 3
   },
   "file_extension": ".py",
   "mimetype": "text/x-python",
   "name": "python",
   "nbconvert_exporter": "python",
   "pygments_lexer": "ipython3",
   "version": "3.6.3"
  }
 },
 "nbformat": 4,
 "nbformat_minor": 2
}
